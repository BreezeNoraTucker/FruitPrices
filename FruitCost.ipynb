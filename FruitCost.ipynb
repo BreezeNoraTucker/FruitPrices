{
 "cells": [
  {
   "cell_type": "code",
   "execution_count": null,
   "id": "c6cbcaf2-abba-4e19-8f12-1003d4b35639",
   "metadata": {},
   "outputs": [],
   "source": [
    "import numpy\n",
    "import pandas as pd\n",
    "import matplotlib.pyplot as plt"
   ]
  },
  {
   "cell_type": "markdown",
   "id": "1e98bb0c-a104-4fb1-b6f6-8a91765085ce",
   "metadata": {},
   "source": [
    "## Exploration and Cleaning\n",
    "First lets take a look at what kinds of data we have.  \n",
    "At a glance, it looks like the columns we care about for final analysis will be:  \n",
    "- Fruit, the type of fruit for the entry (Apples, Raspberries, etc)\n",
    "- Form, the form that fruit takes (Canned, Dried, Fresh, Frozen, or Juice)\n",
    "- CupEquivalentPrice, the cost of this entry of fruit in USD/cup\n",
    "\n",
    "The other 5 columns apear to be used to calculate CupEquivalentPrice,  \n",
    "so we'll drop those."
   ]
  },
  {
   "cell_type": "code",
   "execution_count": 3,
   "id": "200d17fd-4ec5-4839-aed1-5c71d6c8fe99",
   "metadata": {},
   "outputs": [
    {
     "name": "stdout",
     "output_type": "stream",
     "text": [
      "Index(['Fruit', 'Form', 'RetailPrice', 'RetailPriceUnit', 'Yield',\n",
      "       'CupEquivalentSize', 'CupEquivalentUnit', 'CupEquivalentPrice'],\n",
      "      dtype='object')\n",
      "                         Fruit    Form  RetailPrice RetailPriceUnit  Yield  \\\n",
      "0                       Apples   Fresh       1.8541       per pound   0.90   \n",
      "1           Apples, applesauce  Canned       1.1705       per pound   1.00   \n",
      "2       Apples, ready-to-drink   Juice       0.8699        per pint   1.00   \n",
      "3   Apples, frozen concentrate   Juice       0.6086        per pint   1.00   \n",
      "4                     Apricots   Fresh       3.6162       per pound   0.93   \n",
      "..                         ...     ...          ...             ...    ...   \n",
      "57                 Raspberries   Fresh       7.7338       per pound   0.96   \n",
      "58                 Raspberries  Frozen       6.1590       per pound   1.00   \n",
      "59                Strawberries   Fresh       2.9682       per pound   0.94   \n",
      "60                Strawberries  Frozen       3.3421       per pound   1.00   \n",
      "61                  Watermelon   Fresh       0.3820       per pound   0.52   \n",
      "\n",
      "    CupEquivalentSize CupEquivalentUnit  CupEquivalentPrice  \n",
      "0              0.2425            pounds              0.4996  \n",
      "1              0.5401            pounds              0.6323  \n",
      "2              8.0000      fluid ounces              0.4349  \n",
      "3              8.0000      fluid ounces              0.3043  \n",
      "4              0.3638            pounds              1.4145  \n",
      "..                ...               ...                 ...  \n",
      "57             0.3197            pounds              2.5753  \n",
      "58             0.3307            pounds              2.0368  \n",
      "59             0.3197            pounds              1.0094  \n",
      "60             0.3307            pounds              1.1052  \n",
      "61             0.3307            pounds              0.2429  \n",
      "\n",
      "[62 rows x 8 columns]\n"
     ]
    }
   ],
   "source": [
    "file = \"Fruit-Prices-2022.csv\"\n",
    "data = pd.read_csv(file)\n",
    "print(data.columns)\n",
    "print(data)\n",
    "data = data.drop(columns=['RetailPrice','RetailPriceUnit', 'Yield', 'CupEquivalentSize',\n",
    "       'CupEquivalentUnit'])"
   ]
  },
  {
   "cell_type": "markdown",
   "id": "49dc3795-c669-453c-8fbb-3b1ddb3f68bd",
   "metadata": {},
   "source": [
    "## Cleaning (Cont.)\n",
    "It looks like some fruits have multiple different labels in the Fruit column;  \n",
    "Let's clean that up to make comparison within a specific fruit possible.  \n",
    "That is, we'll make 'Apples' and 'Apples, applesauce' equivalent.  \n",
    "Additionally, some fruits also only have a single entry.  \n",
    "We'll remove those to focus fruits with at least 2 rows present."
   ]
  },
  {
   "cell_type": "code",
   "execution_count": 5,
   "id": "e9b77722-2998-45bf-a760-3cc05ccd4f3f",
   "metadata": {},
   "outputs": [
    {
     "name": "stdout",
     "output_type": "stream",
     "text": [
      "initial Fruit values:\n",
      "\n",
      "['Apples' 'Apples, applesauce' 'Apples, ready-to-drink'\n",
      " 'Apples, frozen concentrate' 'Apricots' 'Apricots, packed in juice'\n",
      " 'Apricots, packed in syrup or water' 'Apricots' 'Bananas'\n",
      " 'Berries, mixed' 'Blackberries' 'Blackberries' 'Blueberries'\n",
      " 'Blueberries' 'Cantaloupe' 'Cherries'\n",
      " 'Cherries, packed in syrup or water' 'Clementines' 'Cranberries' 'Dates'\n",
      " 'Figs' 'Fruit cocktail, packed in juice'\n",
      " 'Fruit cocktail, packed in syrup or water' 'Grapefruit'\n",
      " 'Grapefruit, ready-to-drink' 'Grapes' 'Grapes (raisins)'\n",
      " 'Grapes, ready-to-drink' 'Grapes, frozen concentrate' 'Honeydew' 'Kiwi'\n",
      " 'Mangoes' 'Mangoes' 'Nectarines' 'Oranges' 'Oranges, ready-to-drink'\n",
      " 'Oranges, frozen concentrate' 'Papaya' 'Papaya' 'Peaches'\n",
      " 'Peaches, packed in juice' 'Peaches, packed in syrup or water' 'Peaches'\n",
      " 'Pears' 'Pears, packed in juice' 'Pears, packed in syrup or water'\n",
      " 'Pineapple' 'Pineapple, packed in juice'\n",
      " 'Pineapple, packed in syrup or water' 'Pineapple'\n",
      " 'Pineapple, ready-to-drink' 'Pineapple, frozen concentrate' 'Plum'\n",
      " 'Plum (prunes)' 'Plum (prune), ready-to-drink' 'Pomegranate'\n",
      " 'Pomegranate, ready-to-drink' 'Raspberries' 'Raspberries' 'Strawberries'\n",
      " 'Strawberries' 'Watermelon'] \n",
      "\n",
      "Modified Fruit values:\n",
      "\n",
      "['Apples' 'Apples' 'Apples' 'Apples' 'Apricots' 'Apricots' 'Apricots'\n",
      " 'Apricots' 'Bananas' 'Berries' 'Blackberries' 'Blackberries'\n",
      " 'Blueberries' 'Blueberries' 'Cantaloupe' 'Cherries' 'Cherries'\n",
      " 'Clementines' 'Cranberries' 'Dates' 'Figs' 'Fruit' 'Fruit' 'Grapefruit'\n",
      " 'Grapefruit' 'Grapes' 'Grapes' 'Grapes' 'Grapes' 'Honeydew' 'Kiwi'\n",
      " 'Mangoes' 'Mangoes' 'Nectarines' 'Oranges' 'Oranges' 'Oranges' 'Papaya'\n",
      " 'Papaya' 'Peaches' 'Peaches' 'Peaches' 'Peaches' 'Pears' 'Pears' 'Pears'\n",
      " 'Pineapple' 'Pineapple' 'Pineapple' 'Pineapple' 'Pineapple' 'Pineapple'\n",
      " 'Plum' 'Plum' 'Plum' 'Pomegranate' 'Pomegranate' 'Raspberries'\n",
      " 'Raspberries' 'Strawberries' 'Strawberries' 'Watermelon']\n",
      "Final Fruit Values\n",
      "['Apples' 'Apples' 'Apples' 'Apples' 'Apricots' 'Apricots' 'Apricots'\n",
      " 'Apricots' 'Blackberries' 'Blackberries' 'Blueberries' 'Blueberries'\n",
      " 'Cherries' 'Cherries' 'Fruit' 'Fruit' 'Grapefruit' 'Grapefruit' 'Grapes'\n",
      " 'Grapes' 'Grapes' 'Grapes' 'Mangoes' 'Mangoes' 'Oranges' 'Oranges'\n",
      " 'Oranges' 'Papaya' 'Papaya' 'Peaches' 'Peaches' 'Peaches' 'Peaches'\n",
      " 'Pears' 'Pears' 'Pears' 'Pineapple' 'Pineapple' 'Pineapple' 'Pineapple'\n",
      " 'Pineapple' 'Pineapple' 'Plum' 'Plum' 'Plum' 'Pomegranate' 'Pomegranate'\n",
      " 'Raspberries' 'Raspberries' 'Strawberries' 'Strawberries']\n"
     ]
    }
   ],
   "source": [
    "print(\"initial Fruit values:\\n\")\n",
    "print(data[\"Fruit\"].values, \"\\n\")\n",
    "\n",
    "fruits = data[\"Fruit\"].values\n",
    "for i in range(len(fruits)):\n",
    "    for j in range(len(fruits[i])):\n",
    "        if fruits[i][j] == ',' or fruits[i][j] == ' ':\n",
    "            fruits[i] = fruits[i][:j]\n",
    "            break\n",
    "print(\"Modified Fruit values:\\n\")\n",
    "print(data[\"Fruit\"].values)\n",
    "\n",
    "data2 = data.drop_duplicates(subset=\"Fruit\", keep=False)\n",
    "\n",
    "for i in data2.index:\n",
    "    data = data.drop(index=i)\n",
    "print(\"Final Fruit Values\")\n",
    "print(data[\"Fruit\"].values)"
   ]
  },
  {
   "cell_type": "markdown",
   "id": "2a66f629-2e63-4193-bbbf-9169b3f593a9",
   "metadata": {},
   "source": [
    "## Cost / Form Analysis\n",
    "Let's first take a look at the relationship between Form and price.\n",
    "Looking at the chart below, Juice appears to be the cheapest Form overall.  \n",
    "- Fresh has the widest distribution of all the forms, although the highest priced entry is an outlier of the Canned form.\n",
    "- Dried has a rather tight distribution almost entirely between 1-1.5 USD/Cup."
   ]
  },
  {
   "cell_type": "code",
   "execution_count": 7,
   "id": "5e8c8b0d-172f-4286-8131-76cf4c0a44d0",
   "metadata": {},
   "outputs": [
    {
     "data": {
      "text/plain": [
       "CupEquivalentPrice    AxesSubplot(0.125,0.11;0.775x0.77)\n",
       "dtype: object"
      ]
     },
     "execution_count": 7,
     "metadata": {},
     "output_type": "execute_result"
    },
    {
     "data": {
      "image/png": "[encoded data removed]",
      "text/plain": [
       "<Figure size 640x480 with 1 Axes>"
      ]
     },
     "metadata": {},
     "output_type": "display_data"
    }
   ],
   "source": [
    "data.plot.box(column=[\"CupEquivalentPrice\"], by=\"Form\", title=\"Cost by Form\", xlabel=\"Form\", ylabel=\"Price (USD/Cup)\")"
   ]
  },
  {
   "cell_type": "markdown",
   "id": "8bf33824-1f5c-4ec9-9cb2-750b3e098576",
   "metadata": {},
   "source": [
    "## Initial Within Fruit Comparison\n",
    "To get some more useful information, we want to compare the price between forms within each type of fruit.  \n",
    "There's some information in just looking at the common forms for the high and low end of each fruit,  \n",
    "However not much can be said here since there is an uneven distribution of types,  \n",
    "with Fresh entries making up the majority of both the highest and lowest prices for each type of fruit."
   ]
  },
  {
   "cell_type": "code",
   "execution_count": 9,
   "id": "802fc61e-2b7d-417d-b477-e4bc86d085b3",
   "metadata": {},
   "outputs": [
    {
     "name": "stdout",
     "output_type": "stream",
     "text": [
      "minimums:\n",
      "Form\n",
      "Canned    7\n",
      "Fresh     7\n",
      "Dried     4\n",
      "Name: count, dtype: int64\n",
      "maximums:\n",
      "Form\n",
      "Juice     7\n",
      "Fresh     5\n",
      "Frozen    5\n",
      "Canned    1\n",
      "Name: count, dtype: int64\n"
     ]
    }
   ],
   "source": [
    "print(\"minimums:\")\n",
    "print(data.groupby(\"Fruit\").min().value_counts(\"Form\"))\n",
    "print(\"maximums:\")\n",
    "print(data.groupby(\"Fruit\").max().value_counts(\"Form\"))"
   ]
  },
  {
   "cell_type": "markdown",
   "id": "d178f962-f031-4fc4-9e15-8cef7f8e7e27",
   "metadata": {},
   "source": [
    "## Improved Within Fruit Analysis\n",
    "To get a normalized look at the relative costs for each form within each type of fruit,  \n",
    "we'll impliment a method to rank each form on how it costs relative to other forms within each fruit.  \n",
    "We'll use a point system with each entry gaining or losing points. \n",
    "based on its position relative to that fruit's median,  \n",
    "with the median scoring zero, the minimum and maximum should each recieve a fixed, opposite amount of points (1 and -1 respectivly),  \n",
    "with other entries recieving score propertional to their ordinal placement.  \n",
    "This should limit bias based on quantity of entries.  "
   ]
  },
  {
   "cell_type": "code",
   "execution_count": 11,
   "id": "e141cadd-2272-412a-9314-82c6a5a00399",
   "metadata": {
    "scrolled": true
   },
   "outputs": [
    {
     "name": "stdout",
     "output_type": "stream",
     "text": [
      "        0         1\n",
      "0  Canned -5.533333\n",
      "1   Dried -3.600000\n",
      "2   Fresh -0.066667\n",
      "3  Frozen  3.333333\n",
      "4   Juice  5.866667\n"
     ]
    },
    {
     "data": {
      "text/plain": [
       "<AxesSubplot:title={'center':'Relative Cost Scores'}, xlabel='Form', ylabel='Score (high = cheaper)'>"
      ]
     },
     "execution_count": 11,
     "metadata": {},
     "output_type": "execute_result"
    },
    {
     "data": {
      "image/png": "[encoded data removed]",
      "text/plain": [
       "<Figure size 640x480 with 1 Axes>"
      ]
     },
     "metadata": {},
     "output_type": "display_data"
    }
   ],
   "source": [
    "#sort the data for by Fruit type, then by cost with each type, then reindex by this new order\n",
    "data = data.sort_values([\"Fruit\", \"CupEquivalentPrice\"]).reset_index()\n",
    "data = data.drop(columns=['index'])\n",
    "\n",
    "currFruit = \"\"\n",
    "currForms = [] # list in order encountered, from cheapest to most expensive\n",
    "scores = {}\n",
    "for form in [\"Canned\", \"Dried\", \"Fresh\", \"Frozen\", \"Juice\"]:\n",
    "    scores[form] = 0\n",
    "for i in data.itertuples():\n",
    "    if i.Fruit!=currFruit:\n",
    "        for j in range(len(currForms)):\n",
    "            degFree = len(currForms)-1 #degrees of freedom for ranking\n",
    "            points = (degFree-j)/degFree #gives us a value between 1 and 0, inclusive\n",
    "            points = points - 0.5 #shifts the scale to between 0.5 and -0.5 inclusive\n",
    "            points = points * 2 # shift to between 1 and -1\n",
    "            scores[currForms[j]] += points\n",
    "        currForms = []\n",
    "        currFruit = i.Fruit\n",
    "    currForms.append(i.Form)\n",
    "\n",
    "#higher scores reflect forms that are cheaper between forms within fruit types\n",
    "\n",
    "scoreList = []\n",
    "for i in scores:\n",
    "    scoreList.append((i, scores[i]))\n",
    "scoreFrame = pd.DataFrame(scoreList)\n",
    "print(scoreFrame)\n",
    "\n",
    "scoreFrame.plot.bar(title=\"Relative Cost Scores\", x=0, y=1, ylabel=\"Score (high = cheaper)\", xlabel=\"Form\")"
   ]
  },
  {
   "cell_type": "markdown",
   "id": "366543cf-5ced-440b-998a-a0a53117bc87",
   "metadata": {},
   "source": [
    "As shown above in the Relative Cost Scores chart, the order of forms of fruit from cheapest to most expensive is:  \n",
    "- Juice\n",
    "- Frozen\n",
    "- Fresh\n",
    "- Dried\n",
    "- Canned"
   ]
  }
 ],
 "metadata": {
  "kernelspec": {
   "display_name": "Python 3 (ipykernel)",
   "language": "python",
   "name": "python3"
  },
  "language_info": {
   "codemirror_mode": {
    "name": "ipython",
    "version": 3
   },
   "file_extension": ".py",
   "mimetype": "text/x-python",
   "name": "python",
   "nbconvert_exporter": "python",
   "pygments_lexer": "ipython3",
   "version": "3.9.21"
  }
 },
 "nbformat": 4,
 "nbformat_minor": 5
}
