{
 "cells": [
  {
   "cell_type": "code",
   "execution_count": null,
   "id": "c6cbcaf2-abba-4e19-8f12-1003d4b35639",
   "metadata": {},
   "outputs": [],
   "source": []
  }
 ],
 "metadata": {
  "kernelspec": {
   "display_name": "",
   "name": ""
  },
  "language_info": {
   "name": ""
  }
 },
 "nbformat": 4,
 "nbformat_minor": 5
}
