{
 "cells": [
  {
   "cell_type": "code",
   "execution_count": 35,
   "id": "c6cbcaf2-abba-4e19-8f12-1003d4b35639",
   "metadata": {},
   "outputs": [],
   "source": [
    "import numpy\n",
    "import pandas as pd\n",
    "import matplotlib.pyplot as plt"
   ]
  },
  {
   "cell_type": "code",
   "execution_count": 383,
   "id": "200d17fd-4ec5-4839-aed1-5c71d6c8fe99",
   "metadata": {},
   "outputs": [
    {
     "name": "stdout",
     "output_type": "stream",
     "text": [
      "Index(['Fruit', 'Form', 'RetailPrice', 'RetailPriceUnit', 'Yield',\n",
      "       'CupEquivalentSize', 'CupEquivalentUnit', 'CupEquivalentPrice'],\n",
      "      dtype='object')\n",
      "                         Fruit    Form  RetailPrice RetailPriceUnit  Yield  \\\n",
      "0                       Apples   Fresh       1.8541       per pound   0.90   \n",
      "1           Apples, applesauce  Canned       1.1705       per pound   1.00   \n",
      "2       Apples, ready-to-drink   Juice       0.8699        per pint   1.00   \n",
      "3   Apples, frozen concentrate   Juice       0.6086        per pint   1.00   \n",
      "4                     Apricots   Fresh       3.6162       per pound   0.93   \n",
      "..                         ...     ...          ...             ...    ...   \n",
      "57                 Raspberries   Fresh       7.7338       per pound   0.96   \n",
      "58                 Raspberries  Frozen       6.1590       per pound   1.00   \n",
      "59                Strawberries   Fresh       2.9682       per pound   0.94   \n",
      "60                Strawberries  Frozen       3.3421       per pound   1.00   \n",
      "61                  Watermelon   Fresh       0.3820       per pound   0.52   \n",
      "\n",
      "    CupEquivalentSize CupEquivalentUnit  CupEquivalentPrice  \n",
      "0              0.2425            pounds              0.4996  \n",
      "1              0.5401            pounds              0.6323  \n",
      "2              8.0000      fluid ounces              0.4349  \n",
      "3              8.0000      fluid ounces              0.3043  \n",
      "4              0.3638            pounds              1.4145  \n",
      "..                ...               ...                 ...  \n",
      "57             0.3197            pounds              2.5753  \n",
      "58             0.3307            pounds              2.0368  \n",
      "59             0.3197            pounds              1.0094  \n",
      "60             0.3307            pounds              1.1052  \n",
      "61             0.3307            pounds              0.2429  \n",
      "\n",
      "[62 rows x 8 columns]\n"
     ]
    }
   ],
   "source": [
    "file = \"Fruit-Prices-2022.csv\"\n",
    "data = pd.read_csv(file)\n",
    "print(data.columns)\n",
    "print(data)\n",
    "#first lets take a look at what kinds of data we have\n",
    "#at a glance, it looks like the columns we care about for final analysis will be\n",
    "#Fruit, Form, and CupEquivalentPrice \n",
    "#(since the other 5 columns apear to be used to calculate CupEquivalentPrice)\n"
   ]
  },
  {
   "cell_type": "code",
   "execution_count": 407,
   "id": "1f44abda-7261-4396-a1a5-3693f2791ed7",
   "metadata": {},
   "outputs": [
    {
     "name": "stdout",
     "output_type": "stream",
     "text": [
      "Index(['Fruit', 'Form', 'CupEquivalentPrice'], dtype='object')\n"
     ]
    }
   ],
   "source": [
    "data = data.drop(columns=['RetailPrice','RetailPriceUnit', 'Yield', 'CupEquivalentSize',\n",
    "       'CupEquivalentUnit'])\n",
    "print(data.columns)"
   ]
  },
  {
   "cell_type": "code",
   "execution_count": 242,
   "id": "e9b77722-2998-45bf-a760-3cc05ccd4f3f",
   "metadata": {},
   "outputs": [
    {
     "name": "stdout",
     "output_type": "stream",
     "text": [
      "['Apples' 'Apples, applesauce' 'Apples, ready-to-drink'\n",
      " 'Apples, frozen concentrate' 'Apricots' 'Apricots, packed in juice'\n",
      " 'Apricots, packed in syrup or water' 'Apricots' 'Bananas'\n",
      " 'Berries, mixed' 'Blackberries' 'Blackberries' 'Blueberries'\n",
      " 'Blueberries' 'Cantaloupe' 'Cherries'\n",
      " 'Cherries, packed in syrup or water' 'Clementines' 'Cranberries' 'Dates'\n",
      " 'Figs' 'Fruit cocktail, packed in juice'\n",
      " 'Fruit cocktail, packed in syrup or water' 'Grapefruit'\n",
      " 'Grapefruit, ready-to-drink' 'Grapes' 'Grapes (raisins)'\n",
      " 'Grapes, ready-to-drink' 'Grapes, frozen concentrate' 'Honeydew' 'Kiwi'\n",
      " 'Mangoes' 'Mangoes' 'Nectarines' 'Oranges' 'Oranges, ready-to-drink'\n",
      " 'Oranges, frozen concentrate' 'Papaya' 'Papaya' 'Peaches'\n",
      " 'Peaches, packed in juice' 'Peaches, packed in syrup or water' 'Peaches'\n",
      " 'Pears' 'Pears, packed in juice' 'Pears, packed in syrup or water'\n",
      " 'Pineapple' 'Pineapple, packed in juice'\n",
      " 'Pineapple, packed in syrup or water' 'Pineapple'\n",
      " 'Pineapple, ready-to-drink' 'Pineapple, frozen concentrate' 'Plum'\n",
      " 'Plum (prunes)' 'Plum (prune), ready-to-drink' 'Pomegranate'\n",
      " 'Pomegranate, ready-to-drink' 'Raspberries' 'Raspberries' 'Strawberries'\n",
      " 'Strawberries' 'Watermelon']\n"
     ]
    }
   ],
   "source": [
    "#it looks like some fruits have multiple different labels in the Fruit column, let's see how widespread this is\n",
    "print(data[\"Fruit\"].values)\n",
    "#we'll clean this up in a moment, but let's compare our other two columns for now"
   ]
  },
  {
   "cell_type": "code",
   "execution_count": 244,
   "id": "fd3fae83-fea4-48b6-8787-d272aeabbf87",
   "metadata": {},
   "outputs": [
    {
     "data": {
      "text/plain": [
       "<AxesSubplot:xlabel='Form', ylabel='cost per cup equivalent'>"
      ]
     },
     "execution_count": 244,
     "metadata": {},
     "output_type": "execute_result"
    },
    {
     "data": {
      "image/png": "[encoded data removed]",
      "text/plain": [
       "<Figure size 640x480 with 1 Axes>"
      ]
     },
     "metadata": {},
     "output_type": "display_data"
    }
   ],
   "source": [
    "byForm = data.groupby(\"Form\") #form here refers to state, ie fresh, frozen, juice, etc\n",
    "byForm[\"CupEquivalentPrice\"].mean().plot.bar(ylabel=\"cost per cup equivalent\")\n",
    "#this should get us an idea of relative costs per serving of fruit"
   ]
  },
  {
   "cell_type": "code",
   "execution_count": 246,
   "id": "688e69fc-000f-47ff-96c1-365732413ae0",
   "metadata": {},
   "outputs": [
    {
     "data": {
      "text/plain": [
       "CupEquivalentPrice    AxesSubplot(0.125,0.11;0.775x0.77)\n",
       "dtype: object"
      ]
     },
     "execution_count": 246,
     "metadata": {},
     "output_type": "execute_result"
    },
    {
     "data": {
      "image/png": "[encoded data removed]",
      "text/plain": [
       "<Figure size 640x480 with 1 Axes>"
      ]
     },
     "metadata": {},
     "output_type": "display_data"
    }
   ],
   "source": [
    "data.plot.box(column=[\"CupEquivalentPrice\"], by=\"Form\")\n",
    "#getting a bit more granular\n",
    "#here we can see that juice is the cheapest overall, \n",
    "#half of fresh fruits are still at under $1 per cup\n",
    "#the other half of fresh fruits have a much wider spread in price\n",
    "#leading to the slightly higher mean we saw previously"
   ]
  },
  {
   "cell_type": "code",
   "execution_count": 409,
   "id": "fdc388cc-6ccc-4a23-b23b-fc4fe765e3ce",
   "metadata": {},
   "outputs": [
    {
     "name": "stdout",
     "output_type": "stream",
     "text": [
      "['Apples' 'Apples' 'Apples' 'Apples' 'Apricots' 'Apricots' 'Apricots'\n",
      " 'Apricots' 'Blackberries' 'Blackberries' 'Blueberries' 'Blueberries'\n",
      " 'Cherries' 'Cherries' 'Fruit' 'Fruit' 'Grapefruit' 'Grapefruit' 'Grapes'\n",
      " 'Grapes' 'Grapes' 'Grapes' 'Mangoes' 'Mangoes' 'Oranges' 'Oranges'\n",
      " 'Oranges' 'Papaya' 'Papaya' 'Peaches' 'Peaches' 'Peaches' 'Peaches'\n",
      " 'Pears' 'Pears' 'Pears' 'Pineapple' 'Pineapple' 'Pineapple' 'Pineapple'\n",
      " 'Pineapple' 'Pineapple' 'Plum' 'Plum' 'Plum' 'Pomegranate' 'Pomegranate'\n",
      " 'Raspberries' 'Raspberries' 'Strawberries' 'Strawberries']\n"
     ]
    }
   ],
   "source": [
    "#let's check we have a similar amount of entries for each category\n",
    "#in looking at the values for Fruit, we see some fruits don't have entries for every form\n",
    "#first we'll need to remove some extra information from some names\n",
    "#for now, we'll just care about the type of fruit\n",
    "\n",
    "\n",
    "\n",
    "\n",
    "#TODO: with python, probably a better way to do this\n",
    "fruits = data[\"Fruit\"].values\n",
    "for i in range(len(fruits)):\n",
    "    for j in range(len(fruits[i])):\n",
    "        if fruits[i][j] == ',' or fruits[i][j] == ' ':\n",
    "            fruits[i] = fruits[i][:j]\n",
    "            break\n",
    "print(data[\"Fruit\"].values)\n"
   ]
  },
  {
   "cell_type": "code",
   "execution_count": 411,
   "id": "252e3e88-abb4-4923-a0c4-b65657e24f32",
   "metadata": {},
   "outputs": [
    {
     "name": "stdout",
     "output_type": "stream",
     "text": [
      "['Apples' 'Apples' 'Apples' 'Apples' 'Apricots' 'Apricots' 'Apricots'\n",
      " 'Apricots' 'Blackberries' 'Blackberries' 'Blueberries' 'Blueberries'\n",
      " 'Cherries' 'Cherries' 'Fruit' 'Fruit' 'Grapefruit' 'Grapefruit' 'Grapes'\n",
      " 'Grapes' 'Grapes' 'Grapes' 'Mangoes' 'Mangoes' 'Oranges' 'Oranges'\n",
      " 'Oranges' 'Papaya' 'Papaya' 'Peaches' 'Peaches' 'Peaches' 'Peaches'\n",
      " 'Pears' 'Pears' 'Pears' 'Pineapple' 'Pineapple' 'Pineapple' 'Pineapple'\n",
      " 'Pineapple' 'Pineapple' 'Plum' 'Plum' 'Plum' 'Pomegranate' 'Pomegranate'\n",
      " 'Raspberries' 'Raspberries' 'Strawberries' 'Strawberries']\n"
     ]
    }
   ],
   "source": [
    "#let's focus on fruits with at least 2 entries\n",
    "data2 = data.drop_duplicates(subset=\"Fruit\", keep=False)\n",
    "\n",
    "for i in data2.index:\n",
    "    data = data.drop(index=i)\n",
    "print(data[\"Fruit\"].values)"
   ]
  },
  {
   "cell_type": "code",
   "execution_count": null,
   "id": "9f6b6ee6-c1fb-45b1-bf60-afb318d0d4d4",
   "metadata": {},
   "outputs": [],
   "source": [
    "#there's also the Fruit Cocktail entries, which are both canned\n",
    "#we may want to remove these later"
   ]
  },
  {
   "cell_type": "code",
   "execution_count": 224,
   "id": "5e8c8b0d-172f-4286-8131-76cf4c0a44d0",
   "metadata": {},
   "outputs": [
    {
     "data": {
      "text/plain": [
       "CupEquivalentPrice    AxesSubplot(0.125,0.11;0.775x0.77)\n",
       "dtype: object"
      ]
     },
     "execution_count": 224,
     "metadata": {},
     "output_type": "execute_result"
    },
    {
     "data": {
      "image/png": "[encoded data removed]",
      "text/plain": [
       "<Figure size 640x480 with 1 Axes>"
      ]
     },
     "metadata": {},
     "output_type": "display_data"
    }
   ],
   "source": [
    "data.plot.box(column=[\"CupEquivalentPrice\"], by=\"Form\")"
   ]
  },
  {
   "cell_type": "code",
   "execution_count": 264,
   "id": "802fc61e-2b7d-417d-b477-e4bc86d085b3",
   "metadata": {},
   "outputs": [
    {
     "name": "stdout",
     "output_type": "stream",
     "text": [
      "minimums:\n",
      "Form\n",
      "Fresh     14\n",
      "Canned     7\n",
      "Dried      7\n",
      "Frozen     1\n",
      "Name: count, dtype: int64\n",
      "maximums:\n",
      "Form\n",
      "Fresh     12\n",
      "Juice      7\n",
      "Frozen     6\n",
      "Dried      3\n",
      "Canned     1\n",
      "Name: count, dtype: int64\n"
     ]
    }
   ],
   "source": [
    "#ideally we want to compare the price between forms within each type of fruit\n",
    "print(\"minimums:\")\n",
    "print(data.groupby(\"Fruit\").min().value_counts(\"Form\"))\n",
    "print(\"maximums:\")\n",
    "print(data.groupby(\"Fruit\").max().value_counts(\"Form\"))\n",
    "#there's some information in just looking at the common forms for the high and low end of each fruit,\n",
    "#however not much can be said here since there is an uneven distribution of types"
   ]
  },
  {
   "cell_type": "code",
   "execution_count": 389,
   "id": "f4c18e03-3079-479c-9c6b-56eb86595f68",
   "metadata": {},
   "outputs": [],
   "source": [
    "data = data.sort_values([\"Fruit\", \"CupEquivalentPrice\"]).reset_index()\n",
    "data = data.drop(columns=['index'])\n",
    "#TODO:\n",
    "#impliment a method to rank each form on how it costs\n",
    "#relative to other forms within each fruit\n",
    "#could use a point system with each entry gaining or losing points\n",
    "#based on its position relative to that fruit's median,\n",
    "#with the median scoring zero\n",
    "#to theoretically limit bias based on quantity of entries\n",
    "#to follow with this, the minimum and maximum should each recieve a fixed number of points\n",
    "#with other entries recieving score propertional to their ordinal placement"
   ]
  },
  {
   "cell_type": "code",
   "execution_count": 458,
   "id": "e141cadd-2272-412a-9314-82c6a5a00399",
   "metadata": {},
   "outputs": [
    {
     "name": "stdout",
     "output_type": "stream",
     "text": [
      "{'Canned': -2.766666666666667, 'Dried': -1.8, 'Fresh': -0.03333333333333344, 'Frozen': 1.6666666666666665, 'Juice': 2.933333333333333}\n"
     ]
    }
   ],
   "source": [
    "currFruit = \"\"\n",
    "currForms = [] # list in order encountered, from cheapest to most expensive\n",
    "scores = {}\n",
    "for form in [\"Canned\", \"Dried\", \"Fresh\", \"Frozen\", \"Juice\"]:\n",
    "    scores[form] = 0\n",
    "for i in data.itertuples():\n",
    "    if i.Fruit!=currFruit:\n",
    "        for j in range(len(currForms)):\n",
    "            degFree = len(currForms)-1 #degrees of freedom for ranking\n",
    "            points = (degFree-j)/degFree #gives us a value between 1 and 0, inclusive\n",
    "            points = points - 0.5 #shifts the scale to between 0.5 and -0.5 inclusive\n",
    "            scores[currForms[j]] += points\n",
    "        currForms = []\n",
    "        currFruit = i.Fruit\n",
    "    currForms.append(i.Form)\n",
    "print(scores)\n",
    "#higher scores reflect forms that are cheaper between forms within fruit types"
   ]
  },
  {
   "cell_type": "code",
   "execution_count": null,
   "id": "62e87c5a-c959-4108-bde8-c192b454b341",
   "metadata": {},
   "outputs": [],
   "source": []
  },
  {
   "cell_type": "code",
   "execution_count": null,
   "id": "eee4baaa-929b-4b77-9126-5e00f3edcd70",
   "metadata": {},
   "outputs": [],
   "source": []
  }
 ],
 "metadata": {
  "kernelspec": {
   "display_name": "Python 3 (ipykernel)",
   "language": "python",
   "name": "python3"
  },
  "language_info": {
   "codemirror_mode": {
    "name": "ipython",
    "version": 3
   },
   "file_extension": ".py",
   "mimetype": "text/x-python",
   "name": "python",
   "nbconvert_exporter": "python",
   "pygments_lexer": "ipython3",
   "version": "3.9.21"
  }
 },
 "nbformat": 4,
 "nbformat_minor": 5
}
